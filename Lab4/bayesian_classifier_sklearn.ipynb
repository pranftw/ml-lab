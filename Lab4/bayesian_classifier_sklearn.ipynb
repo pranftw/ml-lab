{
  "nbformat": 4,
  "nbformat_minor": 0,
  "metadata": {
    "colab": {
      "name": "bayesian_classifier_sklearn.ipynb",
      "provenance": [],
      "collapsed_sections": []
    },
    "kernelspec": {
      "name": "python3",
      "display_name": "Python 3"
    },
    "language_info": {
      "name": "python"
    }
  },
  "cells": [
    {
      "cell_type": "code",
      "execution_count": null,
      "metadata": {
        "id": "wLsCek2QOzoz"
      },
      "outputs": [],
      "source": [
        "import pandas as pd"
      ]
    },
    {
      "cell_type": "code",
      "source": [
        "from sklearn.model_selection import train_test_split"
      ],
      "metadata": {
        "id": "p4OpTMAHVHQg"
      },
      "execution_count": null,
      "outputs": []
    },
    {
      "cell_type": "code",
      "source": [
        "df = pd.read_csv('/content/drive/MyDrive/Colab Notebooks/naive_bayes_data.csv')"
      ],
      "metadata": {
        "id": "2CS0r-6NPhoF"
      },
      "execution_count": null,
      "outputs": []
    },
    {
      "cell_type": "code",
      "source": [
        "def get_col_vals_dict(df, col):\n",
        "  col_vals_dict = {}\n",
        "  col_vals_unique = list(set(df[col]))\n",
        "\n",
        "  for idx,val in enumerate(col_vals_unique):\n",
        "    col_vals_dict[val] = idx\n",
        "\n",
        "  return col_vals_dict"
      ],
      "metadata": {
        "id": "JZ1SkkQAWLvX"
      },
      "execution_count": null,
      "outputs": []
    },
    {
      "cell_type": "code",
      "source": [
        "def get_examples(df, preprocess=False):\n",
        "  #preprocess makes all string values into int, for classification\n",
        "  X = []\n",
        "  y = []\n",
        "\n",
        "  cols = list(df.columns)\n",
        "  attr_cols = cols[:-1]\n",
        "  result_cols = cols[-1]\n",
        "\n",
        "  num_rows = len(df)\n",
        "\n",
        "  for i in range(num_rows):\n",
        "    new_X = []\n",
        "    for col in attr_cols:\n",
        "      if preprocess:\n",
        "        col_vals_dict = get_col_vals_dict(df, col)\n",
        "        new_X.append(col_vals_dict[df.iloc[i][col]])\n",
        "      else:\n",
        "        new_X.append(df.iloc[i][col])\n",
        "    X.append(new_X)\n",
        "    if preprocess:\n",
        "      col_vals_dict = get_col_vals_dict(df, result_cols)\n",
        "      y.append(col_vals_dict[df.iloc[i][result_cols]])\n",
        "    else:\n",
        "      y.append(df.iloc[i][result_cols])\n",
        "  \n",
        "  return X, y"
      ],
      "metadata": {
        "id": "DgqXcxjKPkR0"
      },
      "execution_count": null,
      "outputs": []
    },
    {
      "cell_type": "code",
      "source": [
        "X, y = get_examples(df, preprocess=True)\n",
        "X_train, X_test, y_train, y_test = train_test_split(X,y,test_size=0.2)"
      ],
      "metadata": {
        "id": "ObpEpmyfTY5l"
      },
      "execution_count": null,
      "outputs": []
    },
    {
      "cell_type": "markdown",
      "source": [
        "# **Naive Bayes**"
      ],
      "metadata": {
        "id": "uR_NM2tIdDZb"
      }
    },
    {
      "cell_type": "code",
      "source": [
        "from sklearn.naive_bayes import CategoricalNB"
      ],
      "metadata": {
        "id": "Bawj_Dn8dNBt"
      },
      "execution_count": null,
      "outputs": []
    },
    {
      "cell_type": "code",
      "source": [
        "gb = CategoricalNB()"
      ],
      "metadata": {
        "id": "CrjDk2HheO--"
      },
      "execution_count": null,
      "outputs": []
    },
    {
      "cell_type": "code",
      "source": [
        "model = gb.fit(X_train, y_train)"
      ],
      "metadata": {
        "id": "cYQDFtdHeT6j"
      },
      "execution_count": null,
      "outputs": []
    },
    {
      "cell_type": "code",
      "source": [
        "preds = model.predict(X_test)"
      ],
      "metadata": {
        "id": "JOogXzyUea72"
      },
      "execution_count": null,
      "outputs": []
    },
    {
      "cell_type": "code",
      "source": [
        "from sklearn.metrics import classification_report"
      ],
      "metadata": {
        "id": "Bstym6gQeeE9"
      },
      "execution_count": null,
      "outputs": []
    },
    {
      "cell_type": "code",
      "source": [
        "print(classification_report(preds, y_test, zero_division=1))"
      ],
      "metadata": {
        "colab": {
          "base_uri": "https://localhost:8080/"
        },
        "id": "ovDKCoPeei9w",
        "outputId": "bc12608a-b2f3-48a9-8574-a92af65670d6"
      },
      "execution_count": null,
      "outputs": [
        {
          "output_type": "stream",
          "name": "stdout",
          "text": [
            "              precision    recall  f1-score   support\n",
            "\n",
            "           0       0.00      1.00      0.00         0\n",
            "           1       1.00      0.67      0.80         3\n",
            "\n",
            "    accuracy                           0.67         3\n",
            "   macro avg       0.50      0.83      0.40         3\n",
            "weighted avg       1.00      0.67      0.80         3\n",
            "\n"
          ]
        }
      ]
    },
    {
      "cell_type": "code",
      "source": [
        ""
      ],
      "metadata": {
        "id": "br-IA1uXembE"
      },
      "execution_count": null,
      "outputs": []
    }
  ]
}
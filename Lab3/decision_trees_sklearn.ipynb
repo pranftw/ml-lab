{
  "nbformat": 4,
  "nbformat_minor": 0,
  "metadata": {
    "colab": {
      "name": "decision_trees_sklearn.ipynb",
      "provenance": []
    },
    "kernelspec": {
      "name": "python3",
      "display_name": "Python 3"
    },
    "language_info": {
      "name": "python"
    }
  },
  "cells": [
    {
      "cell_type": "code",
      "execution_count": null,
      "metadata": {
        "id": "wLsCek2QOzoz"
      },
      "outputs": [],
      "source": [
        "import pandas as pd"
      ]
    },
    {
      "cell_type": "code",
      "source": [
        "from sklearn.model_selection import train_test_split"
      ],
      "metadata": {
        "id": "p4OpTMAHVHQg"
      },
      "execution_count": null,
      "outputs": []
    },
    {
      "cell_type": "code",
      "source": [
        "df = pd.read_csv('/content/drive/MyDrive/Colab Notebooks/naive_bayes_data.csv')"
      ],
      "metadata": {
        "id": "2CS0r-6NPhoF"
      },
      "execution_count": null,
      "outputs": []
    },
    {
      "cell_type": "code",
      "source": [
        "def get_col_vals_dict(df, col):\n",
        "  col_vals_dict = {}\n",
        "  col_vals_unique = list(set(df[col]))\n",
        "\n",
        "  for idx,val in enumerate(col_vals_unique):\n",
        "    col_vals_dict[val] = idx\n",
        "\n",
        "  return col_vals_dict"
      ],
      "metadata": {
        "id": "JZ1SkkQAWLvX"
      },
      "execution_count": null,
      "outputs": []
    },
    {
      "cell_type": "code",
      "source": [
        "def get_examples(df, preprocess=False):\n",
        "  #preprocess makes all string values into int, for classification\n",
        "  X = []\n",
        "  y = []\n",
        "\n",
        "  cols = list(df.columns)\n",
        "  attr_cols = cols[:-1]\n",
        "  result_cols = cols[-1]\n",
        "\n",
        "  num_rows = len(df)\n",
        "\n",
        "  for i in range(num_rows):\n",
        "    new_X = []\n",
        "    for col in attr_cols:\n",
        "      if preprocess:\n",
        "        col_vals_dict = get_col_vals_dict(df, col)\n",
        "        new_X.append(col_vals_dict[df.iloc[i][col]])\n",
        "      else:\n",
        "        new_X.append(df.iloc[i][col])\n",
        "    X.append(new_X)\n",
        "    if preprocess:\n",
        "      col_vals_dict = get_col_vals_dict(df, result_cols)\n",
        "      y.append(col_vals_dict[df.iloc[i][result_cols]])\n",
        "    else:\n",
        "      y.append(df.iloc[i][result_cols])\n",
        "  \n",
        "  return X, y"
      ],
      "metadata": {
        "id": "DgqXcxjKPkR0"
      },
      "execution_count": null,
      "outputs": []
    },
    {
      "cell_type": "code",
      "source": [
        "X, y = get_examples(df, preprocess=True)\n",
        "X_train, X_test, y_train, y_test = train_test_split(X,y,test_size=0.2)"
      ],
      "metadata": {
        "id": "ObpEpmyfTY5l"
      },
      "execution_count": null,
      "outputs": []
    },
    {
      "cell_type": "markdown",
      "source": [
        "# **Decision Tree**"
      ],
      "metadata": {
        "id": "jcsoMQhGczsa"
      }
    },
    {
      "cell_type": "code",
      "source": [
        "from sklearn.tree import DecisionTreeClassifier as DT"
      ],
      "metadata": {
        "id": "tTmyRFq1Tx2-"
      },
      "execution_count": null,
      "outputs": []
    },
    {
      "cell_type": "code",
      "source": [
        "dt = DT(criterion='entropy')"
      ],
      "metadata": {
        "id": "B5muyRXdVAbS"
      },
      "execution_count": null,
      "outputs": []
    },
    {
      "cell_type": "code",
      "source": [
        "model = dt.fit(X_train, y_train)"
      ],
      "metadata": {
        "id": "81kc7Kf2VsHR"
      },
      "execution_count": null,
      "outputs": []
    },
    {
      "cell_type": "code",
      "source": [
        "preds = model.predict(X_test)"
      ],
      "metadata": {
        "id": "LYzs7bAFVwFb"
      },
      "execution_count": null,
      "outputs": []
    },
    {
      "cell_type": "code",
      "source": [
        "from sklearn.metrics import classification_report"
      ],
      "metadata": {
        "id": "4dxXWSOTaTMb"
      },
      "execution_count": null,
      "outputs": []
    },
    {
      "cell_type": "code",
      "source": [
        "print(classification_report(preds, y_test))"
      ],
      "metadata": {
        "colab": {
          "base_uri": "https://localhost:8080/"
        },
        "id": "upE6BFGjacpB",
        "outputId": "d8253d6a-6ec7-4cd0-f860-ce8f2cefe08e"
      },
      "execution_count": null,
      "outputs": [
        {
          "output_type": "stream",
          "name": "stdout",
          "text": [
            "              precision    recall  f1-score   support\n",
            "\n",
            "           0       1.00      0.50      0.67         2\n",
            "           1       0.50      1.00      0.67         1\n",
            "\n",
            "    accuracy                           0.67         3\n",
            "   macro avg       0.75      0.75      0.67         3\n",
            "weighted avg       0.83      0.67      0.67         3\n",
            "\n"
          ]
        }
      ]
    },
    {
      "cell_type": "code",
      "source": [
        "from sklearn.metrics import plot_confusion_matrix\n",
        "import matplotlib.pyplot as plt"
      ],
      "metadata": {
        "id": "rS1EFyzKqyOu"
      },
      "execution_count": null,
      "outputs": []
    },
    {
      "cell_type": "code",
      "source": [
        "plot_confusion_matrix(model, X_test, y_test)\n",
        "plt.show()"
      ],
      "metadata": {
        "colab": {
          "base_uri": "https://localhost:8080/",
          "height": 337
        },
        "id": "AKXYio8sq4yA",
        "outputId": "0d41afcd-9435-427f-c3c9-a33e7b2ace71"
      },
      "execution_count": null,
      "outputs": [
        {
          "output_type": "stream",
          "name": "stderr",
          "text": [
            "/usr/local/lib/python3.7/dist-packages/sklearn/utils/deprecation.py:87: FutureWarning: Function plot_confusion_matrix is deprecated; Function `plot_confusion_matrix` is deprecated in 1.0 and will be removed in 1.2. Use one of the class methods: ConfusionMatrixDisplay.from_predictions or ConfusionMatrixDisplay.from_estimator.\n",
            "  warnings.warn(msg, category=FutureWarning)\n"
          ]
        },
        {
          "output_type": "display_data",
          "data": {
            "text/plain": [
              "<Figure size 432x288 with 2 Axes>"
            ],
            "image/png": "[encoded data removed]"
          },
          "metadata": {
            "needs_background": "light"
          }
        }
      ]
    },
    {
      "cell_type": "code",
      "source": [
        ""
      ],
      "metadata": {
        "id": "br-IA1uXembE"
      },
      "execution_count": null,
      "outputs": []
    }
  ]
}
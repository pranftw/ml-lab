{
  "nbformat": 4,
  "nbformat_minor": 0,
  "metadata": {
    "colab": {
      "name": "k_means.ipynb",
      "provenance": [],
      "collapsed_sections": []
    },
    "kernelspec": {
      "name": "python3",
      "display_name": "Python 3"
    },
    "language_info": {
      "name": "python"
    }
  },
  "cells": [
    {
      "cell_type": "code",
      "source": [
        "class Point:\n",
        "  id = 0\n",
        "  def __init__(self, x, y):\n",
        "    self.x = x\n",
        "    self.y = y\n",
        "    self.id = Point.id\n",
        "    Point.id+=1\n",
        "  \n",
        "  def calculate_distance(self, other):\n",
        "    return abs(self.x-other.x)+abs(self.y-other.y)\n",
        "  \n",
        "  def __repr__(self):\n",
        "    return f'({self.x}, {self.y})'\n",
        "  \n",
        "  def __str__(self):\n",
        "    return f'({self.x}, {self.y})'\n",
        "  \n",
        "  def get_tuple(self):\n",
        "    return self.x, self.y"
      ],
      "metadata": {
        "id": "VZcRWOD2F1Oi"
      },
      "execution_count": null,
      "outputs": []
    },
    {
      "cell_type": "code",
      "execution_count": null,
      "metadata": {
        "id": "ZL9irc2cE-jL"
      },
      "outputs": [],
      "source": [
        "def clusterize(other_points, centroid_points):\n",
        "  clusters = {}\n",
        "  for point in other_points:\n",
        "    min_dist = None\n",
        "    min_centroid_point = None\n",
        "    for centroid_point in centroid_points:\n",
        "      dist = point.calculate_distance(centroid_point)\n",
        "      if min_dist is None or dist<min_dist:\n",
        "        min_dist = dist\n",
        "        min_centroid_point = centroid_point\n",
        "    if clusters.get(min_centroid_point.id) is None:\n",
        "      clusters[min_centroid_point.id] = [point]\n",
        "    else:\n",
        "      clusters[min_centroid_point.id].append(point)\n",
        "  return clusters"
      ]
    },
    {
      "cell_type": "code",
      "source": [
        "def calculate_centroid(points):\n",
        "  sum_x = 0\n",
        "  sum_y = 0\n",
        "  for point in points:\n",
        "    sum_x+=point.x\n",
        "    sum_y+=point.y\n",
        "  return Point(sum_x/(len(points)*1.0), sum_y/(len(points)*1.0))"
      ],
      "metadata": {
        "id": "eXsGuJ1nFE5N"
      },
      "execution_count": null,
      "outputs": []
    },
    {
      "cell_type": "code",
      "source": [
        "def run(points, initial_centroids, num_iter=1):\n",
        "  points = list(map(lambda point: Point(point[0],point[1]), points))\n",
        "  centroids = list(map(lambda point: Point(point[0],point[1]), initial_centroids))\n",
        "  all_clusters = []\n",
        "  clusters = {}\n",
        "  for point in centroids:\n",
        "    clusters[point.id] = []\n",
        "  all_clusters.append(clusters)\n",
        "  for _ in range(num_iter):\n",
        "    clusters = clusterize(points, centroids)\n",
        "    centroids = []\n",
        "    for cluster_val in clusters.values():\n",
        "      centroids.append(calculate_centroid(cluster_val))\n",
        "    all_clusters.append(clusters)\n",
        "  return all_clusters"
      ],
      "metadata": {
        "id": "T-nRwHpKFMRK"
      },
      "execution_count": null,
      "outputs": []
    },
    {
      "cell_type": "code",
      "source": [
        "clusters = run([(2,10),(2,5),(8,4),(5,8),(7,5),(6,4),(1,2),(4,9)],[(2,10),(5,8),(1,2)], num_iter=10)"
      ],
      "metadata": {
        "id": "QHhNmQyJFOmq"
      },
      "execution_count": null,
      "outputs": []
    },
    {
      "cell_type": "code",
      "source": [
        "print(clusters)"
      ],
      "metadata": {
        "colab": {
          "base_uri": "https://localhost:8080/"
        },
        "id": "SicD5ur-Sc1Y",
        "outputId": "45645f41-b097-4add-abcd-6faeab54585e"
      },
      "execution_count": null,
      "outputs": [
        {
          "output_type": "stream",
          "name": "stdout",
          "text": [
            "[{101: [], 102: [], 103: []}, {101: [(2, 10)], 103: [(2, 5), (1, 2)], 102: [(8, 4), (5, 8), (7, 5), (6, 4), (4, 9)]}, {104: [(2, 10), (4, 9)], 105: [(2, 5), (1, 2)], 106: [(8, 4), (5, 8), (7, 5), (6, 4)]}, {107: [(2, 10), (5, 8), (4, 9)], 108: [(2, 5), (1, 2)], 109: [(8, 4), (7, 5), (6, 4)]}, {110: [(2, 10), (5, 8), (4, 9)], 111: [(2, 5), (1, 2)], 112: [(8, 4), (7, 5), (6, 4)]}, {113: [(2, 10), (5, 8), (4, 9)], 114: [(2, 5), (1, 2)], 115: [(8, 4), (7, 5), (6, 4)]}, {116: [(2, 10), (5, 8), (4, 9)], 117: [(2, 5), (1, 2)], 118: [(8, 4), (7, 5), (6, 4)]}, {119: [(2, 10), (5, 8), (4, 9)], 120: [(2, 5), (1, 2)], 121: [(8, 4), (7, 5), (6, 4)]}, {122: [(2, 10), (5, 8), (4, 9)], 123: [(2, 5), (1, 2)], 124: [(8, 4), (7, 5), (6, 4)]}, {125: [(2, 10), (5, 8), (4, 9)], 126: [(2, 5), (1, 2)], 127: [(8, 4), (7, 5), (6, 4)]}, {128: [(2, 10), (5, 8), (4, 9)], 129: [(2, 5), (1, 2)], 130: [(8, 4), (7, 5), (6, 4)]}]\n"
          ]
        }
      ]
    },
    {
      "cell_type": "code",
      "source": [
        ""
      ],
      "metadata": {
        "id": "DKk7nuojSfjw"
      },
      "execution_count": null,
      "outputs": []
    }
  ]
}